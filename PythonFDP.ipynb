{
  "nbformat": 4,
  "nbformat_minor": 0,
  "metadata": {
    "colab": {
      "provenance": [],
      "authorship_tag": "ABX9TyMrUQ48cZcb8OD1NwJHVkh5",
      "include_colab_link": true
    },
    "kernelspec": {
      "name": "python3",
      "display_name": "Python 3"
    },
    "language_info": {
      "name": "python"
    }
  },
  "cells": [
    {
      "cell_type": "markdown",
      "metadata": {
        "id": "view-in-github",
        "colab_type": "text"
      },
      "source": [
        "<a href=\"https://colab.research.google.com/github/Merina-Aruja/Applied_Mathematics/blob/main/PythonFDP.ipynb\" target=\"_parent\"><img src=\"https://colab.research.google.com/assets/colab-badge.svg\" alt=\"Open In Colab\"/></a>"
      ]
    },
    {
      "cell_type": "code",
      "execution_count": null,
      "metadata": {
        "id": "9pTMCtBY9ovc"
      },
      "outputs": [],
      "source": []
    },
    {
      "cell_type": "markdown",
      "source": [
        ">**Data structures in Python**\n",
        "- **Tuple** : Tuples are wrtten with ( ) brackets The order of the element in Tuple is preserved.\n",
        "\n",
        ">`Characteristics of Tuple`\n",
        "- The elements of tuple are indexed\n",
        "- The elements are immutable once the tuple is defined we cannot make any change to any elements\n",
        "- Tuple can contain different data types : string, float, boolean etc\n",
        "\n",
        "**Basic Operations**\n",
        "- extract any one element : First element :[0] Last element :[-1]\n",
        "- Finding the lenght of tuple :len\n",
        "- How to concatinate tuple : +\n",
        "- Repeating the first element : *\n",
        "- How to find minimum value in tuple : min\n",
        "- how th find the maximum value : max\n",
        "\n",
        "\n",
        "- List : List are written with [ ] brackets\n",
        "- Dictionary : Dictionary are written with { \"Key\":\"Value\"}\n",
        "- Set : Seta are written in { }"
      ],
      "metadata": {
        "id": "z3UydrI4AZZO"
      }
    },
    {
      "cell_type": "code",
      "source": [
        "my_tuple = (\"apple\", \"banana\", True, 1)\n",
        "print(my_tuple[0])\n",
        "print(my_tuple[-1])\n",
        "print(len(my_tuple))\n",
        "t1 = (\"Liya\", \"Liz\", 7,2)\n",
        "t2 = (\"Diya\", \"ciya\", 8, 3)\n",
        "print(t1 + t2)\n",
        "t3 = ( 1, 2, 3, 4)\n",
        "print(t3*3)\n",
        "t4=(1,2,3,4,5,6,7)\n",
        "print(min(t3))\n",
        "print(max(t4))\n"
      ],
      "metadata": {
        "colab": {
          "base_uri": "https://localhost:8080/"
        },
        "id": "5x4vGI1IEXXQ",
        "outputId": "670764bd-66ee-4592-94c3-21ff66d0ba60"
      },
      "execution_count": 11,
      "outputs": [
        {
          "output_type": "stream",
          "name": "stdout",
          "text": [
            "apple\n",
            "1\n",
            "4\n",
            "('Liya', 'Liz', 7, 2, 'Diya', 'ciya', 8, 3)\n",
            "(1, 2, 3, 4, 1, 2, 3, 4, 1, 2, 3, 4)\n",
            "1\n",
            "7\n"
          ]
        }
      ]
    },
    {
      "cell_type": "code",
      "source": [],
      "metadata": {
        "id": "erK5dUD_EpYT"
      },
      "execution_count": null,
      "outputs": []
    },
    {
      "cell_type": "markdown",
      "source": [
        "** List in Python**\n",
        "- List are written in [ ] brackets\n",
        "- elements in the list are comma\n",
        "`Charactistic of list`\n",
        "-List are ordered: It means it has index value\n",
        "- List are mutable, it we can change data elements within the list\n",
        "- List can contain duplicate value\n",
        "- List can have different data elements: integer , string, float, boolean\n",
        "\n",
        "## Basic Operations\n",
        "- Extracting individual value\n",
        "- How to modify a list\n",
        "- How to add or append new data element\n",
        "-Inserting elements at specified index\n",
        "- concatinating in the list\n",
        "- repeating the list\n"
      ],
      "metadata": {
        "id": "-YKdEHx2I05a"
      }
    },
    {
      "cell_type": "code",
      "source": [
        "l1=[\"Deepu\",\"Merina\", 1, 2, True, 3.14, ]\n",
        "print(l1)\n",
        "print(l1[0])\n",
        "print(l1[-2])\n",
        "l2=[1,2,3.145,\"Liya\", True]\n",
        "l2[0] =100\n",
        "print(l2)\n",
        "l2[3]=\"liz\"\n",
        "print(l2)\n",
        "l2.append(2017)\n",
        "print(l2)\n",
        "l3=[1,2,3,\"Liya\", \"Liz\"]\n",
        "l3.insert(0,\"deepu\")\n",
        "print(l3)\n",
        "l3.insert(1, \"Meri\")\n",
        "print(l3)\n",
        "l4=[1,2,3,4]\n",
        "l5=[5,6,7,8]\n",
        "print(l4+l5)\n",
        "print(l4*4)"
      ],
      "metadata": {
        "colab": {
          "base_uri": "https://localhost:8080/"
        },
        "id": "A72kgsUhJqTP",
        "outputId": "a65e29fb-c193-41f9-c154-08fc0c782981"
      },
      "execution_count": 27,
      "outputs": [
        {
          "output_type": "stream",
          "name": "stdout",
          "text": [
            "['Deepu', 'Merina', 1, 2, True, 3.14]\n",
            "Deepu\n",
            "True\n",
            "[100, 2, 3.145, 'Liya', True]\n",
            "[100, 2, 3.145, 'liz', True]\n",
            "[100, 2, 3.145, 'liz', True, 2017]\n",
            "['deepu', 1, 2, 3, 'Liya', 'Liz']\n",
            "['deepu', 'Meri', 1, 2, 3, 'Liya', 'Liz']\n",
            "[1, 2, 3, 4, 5, 6, 7, 8]\n",
            "[1, 2, 3, 4, 1, 2, 3, 4, 1, 2, 3, 4, 1, 2, 3, 4]\n"
          ]
        }
      ]
    },
    {
      "cell_type": "markdown",
      "source": [
        "####*Identifier in python*\n",
        "it simply means naming of variables\n",
        "- variable name cannot be  start with underscore\n",
        "- cant start with numerical value\n",
        "- cannot start with a special character\n",
        "# Most important rule\n",
        "- in coding your code should be readable that is the code should not be complex\n",
        "-write the appropiate commants in ur coding book\n",
        "- your code is not duplicate"
      ],
      "metadata": {
        "id": "kNumrKV5NLHW"
      }
    },
    {
      "cell_type": "markdown",
      "source": [
        "### Dictonary in python\n",
        "Dictonary are written in curly barcket{ }\n",
        "*charatistics of dictonary*\n",
        "-dictanory are unordered\n",
        "- mutable\n",
        "-different data types\n",
        "- keys must be unique\n",
        "### Basic operation\n",
        "- extracting values :d1.values\n",
        "- how to modify a dictonary\n",
        "- how to concatenate\n",
        "- how to add new variable"
      ],
      "metadata": {
        "id": "l-qG7rpzPKsB"
      }
    },
    {
      "cell_type": "code",
      "source": [
        "d1= {\"name\":\"Merina\", \"age\": 40, \"city\": \"Kottayam\"}\n",
        "print(d1.values())\n",
        "# adding a new element\n",
        "d1[\"Merina\"]=\"Deepu\"\n",
        "print(d1)\n",
        "d2={\"name:Meri\", \"age:40\", \"city\":\"Kottayam\"}\n",
        "d3={\"name:Meri\", \"age:40\", \"city\":\"Kottayam\"}\n",
        "d2.update(d3)\n",
        "print(d2)"
      ],
      "metadata": {
        "colab": {
          "base_uri": "https://localhost:8080/",
          "height": 106
        },
        "id": "med2YOfKJ77S",
        "outputId": "95a78f2f-0edb-4533-ed13-0e2e814adbb4"
      },
      "execution_count": 35,
      "outputs": [
        {
          "output_type": "error",
          "ename": "SyntaxError",
          "evalue": "invalid syntax (<ipython-input-35-ea87761775ba>, line 6)",
          "traceback": [
            "\u001b[0;36m  File \u001b[0;32m\"<ipython-input-35-ea87761775ba>\"\u001b[0;36m, line \u001b[0;32m6\u001b[0m\n\u001b[0;31m    d2={\"name:Meri\", \"age:40\", \"city\":\"Kottayam\"}\u001b[0m\n\u001b[0m                                     ^\u001b[0m\n\u001b[0;31mSyntaxError\u001b[0m\u001b[0;31m:\u001b[0m invalid syntax\n"
          ]
        }
      ]
    },
    {
      "cell_type": "markdown",
      "source": [
        "### sets in python\n",
        "- In python sets are also written in curly brackets { }\n",
        "* Characteristic of sets*\n",
        "- sets are unordered: it means the elements in the sets are not in specific orders\n",
        "- mutable\n",
        "stes do not have duplicate elements\n"
      ],
      "metadata": {
        "id": "zXW9d-h-TNLS"
      }
    },
    {
      "cell_type": "code",
      "source": [
        "# Basic operation in sets\n",
        "# how to add/update set\n",
        "s1={1,2,3,4,5,3.14}\n",
        "print(s1)\n",
        "# adding some particular value\n",
        "s1.add('Meri')\n",
        "print(s1)\n",
        "# union of two sets\n",
        "s2={2,4,6,8,9,4.13}\n",
        "print(s1.union(s2))\n",
        "# intersection of two sets\n",
        "print(s1.intersection(s2))\n"
      ],
      "metadata": {
        "colab": {
          "base_uri": "https://localhost:8080/"
        },
        "id": "RpYZmODUT3cZ",
        "outputId": "36a59500-94f0-464a-e477-be892c6e62c6"
      },
      "execution_count": 41,
      "outputs": [
        {
          "output_type": "stream",
          "name": "stdout",
          "text": [
            "{1, 2, 3, 4, 5, 3.14}\n",
            "{1, 2, 3, 4, 5, 3.14, 'Meri'}\n",
            "{1, 2, 3, 4, 5, 3.14, 4.13, 6, 8, 9, 'Meri'}\n",
            "{2, 4}\n"
          ]
        }
      ]
    },
    {
      "cell_type": "code",
      "source": [
        "\n",
        "\n"
      ],
      "metadata": {
        "id": "8NWRzEjCQtKS"
      },
      "execution_count": null,
      "outputs": []
    }
  ]
}